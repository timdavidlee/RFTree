{
 "cells": [
  {
   "cell_type": "code",
   "execution_count": 40,
   "metadata": {
    "collapsed": true
   },
   "outputs": [],
   "source": [
    "import pandas as pd\n",
    "import numpy as np\n",
    "import IPython\n",
    "import graphviz\n",
    "import re\n",
    "from IPython.display import display\n",
    "from sklearn.tree import DecisionTreeClassifier, DecisionTreeRegressor, export_graphviz"
   ]
  },
  {
   "cell_type": "code",
   "execution_count": 41,
   "metadata": {
    "collapsed": true
   },
   "outputs": [],
   "source": [
    "data_path = '/Users/timlee/data/iowa-housing/train.csv'\n",
    "df = pd.read_csv(data_path)"
   ]
  },
  {
   "cell_type": "markdown",
   "metadata": {},
   "source": [
    "## To make things simple we will only choose a few columns"
   ]
  },
  {
   "cell_type": "code",
   "execution_count": 42,
   "metadata": {},
   "outputs": [
    {
     "data": {
      "text/plain": [
       "Index(['Id', 'MSSubClass', 'MSZoning', 'LotFrontage', 'LotArea', 'Street',\n",
       "       'Alley', 'LotShape', 'LandContour', 'Utilities', 'LotConfig',\n",
       "       'LandSlope', 'Neighborhood', 'Condition1', 'Condition2', 'BldgType',\n",
       "       'HouseStyle', 'OverallQual', 'OverallCond', 'YearBuilt', 'YearRemodAdd',\n",
       "       'RoofStyle', 'RoofMatl', 'Exterior1st', 'Exterior2nd', 'MasVnrType',\n",
       "       'MasVnrArea', 'ExterQual', 'ExterCond', 'Foundation', 'BsmtQual',\n",
       "       'BsmtCond', 'BsmtExposure', 'BsmtFinType1', 'BsmtFinSF1',\n",
       "       'BsmtFinType2', 'BsmtFinSF2', 'BsmtUnfSF', 'TotalBsmtSF', 'Heating',\n",
       "       'HeatingQC', 'CentralAir', 'Electrical', '1stFlrSF', '2ndFlrSF',\n",
       "       'LowQualFinSF', 'GrLivArea', 'BsmtFullBath', 'BsmtHalfBath', 'FullBath',\n",
       "       'HalfBath', 'BedroomAbvGr', 'KitchenAbvGr', 'KitchenQual',\n",
       "       'TotRmsAbvGrd', 'Functional', 'Fireplaces', 'FireplaceQu', 'GarageType',\n",
       "       'GarageYrBlt', 'GarageFinish', 'GarageCars', 'GarageArea', 'GarageQual',\n",
       "       'GarageCond', 'PavedDrive', 'WoodDeckSF', 'OpenPorchSF',\n",
       "       'EnclosedPorch', '3SsnPorch', 'ScreenPorch', 'PoolArea', 'PoolQC',\n",
       "       'Fence', 'MiscFeature', 'MiscVal', 'MoSold', 'YrSold', 'SaleType',\n",
       "       'SaleCondition', 'SalePrice'],\n",
       "      dtype='object')"
      ]
     },
     "execution_count": 42,
     "metadata": {},
     "output_type": "execute_result"
    }
   ],
   "source": [
    "df.columns"
   ]
  },
  {
   "cell_type": "code",
   "execution_count": 43,
   "metadata": {},
   "outputs": [],
   "source": [
    "selected_cols = ['MSSubClass', 'MSZoning', 'LotFrontage', 'LotArea',\n",
    "         'LotShape', 'LandContour', 'Utilities', 'LotConfig',\n",
    "        'LandSlope', 'Neighborhood', 'Condition1', 'Condition2', 'BldgType',\n",
    "       'HouseStyle', 'OverallQual', 'OverallCond', 'YearBuilt','GrLivArea','FullBath',\n",
    "       'HalfBath', 'BedroomAbvGr', 'TotRmsAbvGrd', 'YrSold', 'SaleType',\n",
    "       'SaleCondition', 'SalePrice']"
   ]
  },
  {
   "cell_type": "code",
   "execution_count": 55,
   "metadata": {
    "scrolled": true
   },
   "outputs": [
    {
     "data": {
      "text/plain": [
       "((1460, 3), (1460,))"
      ]
     },
     "execution_count": 55,
     "metadata": {},
     "output_type": "execute_result"
    }
   ],
   "source": [
    "test_cols = ['GrLivArea', 'TotRmsAbvGrd', 'LotArea' ]\n",
    "labels = df['SalePrice']\n",
    "\n",
    "df_trn = df[test_cols].copy()\n",
    "df_trn.fillna(0, inplace=True)\n",
    "df_trn.shape, labels.shape"
   ]
  },
  {
   "cell_type": "code",
   "execution_count": 46,
   "metadata": {},
   "outputs": [],
   "source": [
    "sample = df_trn['GrLivArea']"
   ]
  },
  {
   "cell_type": "code",
   "execution_count": 47,
   "metadata": {},
   "outputs": [],
   "source": [
    "n = len(sample)\n",
    "score = 100000\n",
    "\n",
    "for i in range(n):\n",
    "    left = sample < sample[i]\n",
    "    right = sample >= sample[i]\n",
    "    "
   ]
  },
  {
   "cell_type": "markdown",
   "metadata": {},
   "source": [
    "### Drawing Tree"
   ]
  },
  {
   "cell_type": "code",
   "execution_count": 48,
   "metadata": {
    "collapsed": true
   },
   "outputs": [],
   "source": [
    "def draw_tree(t, df, size=10, ratio=0.6, precision=0):\n",
    "    \"\"\" Draws a representation of a random forest in IPython.\n",
    "    Parameters:\n",
    "    -----------\n",
    "    t: The tree you wish to draw\n",
    "    df: The data used to train the tree. This is used to get the names of the features.\n",
    "    \"\"\"\n",
    "    s=export_graphviz(t, out_file=None, feature_names=df.columns, filled=True,\n",
    "                      special_characters=True, rotate=True, precision=precision)\n",
    "    IPython.display.display(graphviz.Source(re.sub('Tree {',\n",
    "       f'Tree {{ size={size}; ratio={ratio}', s)))"
   ]
  },
  {
   "cell_type": "markdown",
   "metadata": {},
   "source": [
    "### First Prototype  a Decision Tree"
   ]
  },
  {
   "cell_type": "code",
   "execution_count": 188,
   "metadata": {},
   "outputs": [],
   "source": [
    "class Dtree():\n",
    "    def __init__(self,x,y, filter_indices = None, print_offset=' ', max_depth=None):\n",
    "        self.print_offset = print_offset\n",
    "            \n",
    "        if filter_indices is None:\n",
    "            self.indices = list(x.index)\n",
    "        else:\n",
    "            self.indices = filter_indices\n",
    "            \n",
    "        self.x = x\n",
    "        self.y = y\n",
    "        # self.feature_idx =1\n",
    "        self.stored_score = float('inf')\n",
    "        self.stored_split_feature = 0\n",
    "        self.stored_split_value = 0\n",
    "        self.feature_list = x.columns\n",
    "        self.left_idx = None\n",
    "        self.right_idx = None\n",
    "\n",
    "    def spawn(self):\n",
    "        self.split_data()\n",
    "        if (len(self.left_idx) > 50) & (len(self.right_idx) > 50 ) :\n",
    "            print(self.print_offset + 'left: ' + str(len(self.left_idx)))\n",
    "            self.left_tree = Dtree(self.x, self.y, self.left_idx, self.print_offset + ' left -> ')\n",
    "            self.left_tree.spawn()\n",
    "            print(self.print_offset + 'right: ' + str(len(self.right_idx)))\n",
    "            self.right_tree= Dtree(self.x, self.y, self.right_idx, self.print_offset + ' right-> ')\n",
    "            self.right_tree.spawn()\n",
    "    \n",
    "    def split_data(self):\n",
    "        self.check_all_features()\n",
    "        feat_name = self.feature_list[self.stored_split_feature]\n",
    "        x_col = self.x[[feat_name]]\n",
    "        x_col = x_col.iloc[self.indices,:]\n",
    "        self.left_idx  = list(x_col[x_col[feat_name] < self.stored_split_value].index)\n",
    "        self.right_idx  = list(x_col[x_col[feat_name] >= self.stored_split_value].index)\n",
    "        \n",
    "    \n",
    "    \n",
    "    def check_all_features(self):\n",
    "        for i in range(len(self.feature_list)-1):\n",
    "            self.find_split_in_single_feature(i)  \n",
    "            \n",
    "        print(self.stored_score, self.feature_list[self.stored_split_feature], self.stored_split_value)\n",
    "    \n",
    "    \n",
    "    def find_split_in_single_feature(self, feature_idx):\n",
    "        X_train = self.x\n",
    "        y_train = self.y\n",
    "\n",
    "        x,y = X_train.iloc[self.indices, feature_idx], y_train.values[self.indices]\n",
    "        \n",
    "        for split_index in x.index:\n",
    "            lhs_x = x<=x[split_index]\n",
    "            rhs_x = x>x[split_index]\n",
    "\n",
    "            if rhs_x.sum()==0:\n",
    "                continue\n",
    "            else:\n",
    "                lhs_y_std = y[lhs_x].std()\n",
    "                rhs_x_std = y[rhs_x].std()\n",
    "\n",
    "                curr_score = lhs_y_std*lhs_x.sum() + rhs_x_std*rhs_x.sum()\n",
    "                if curr_score<self.stored_score: \n",
    "                    self.stored_split_feature = feature_idx\n",
    "                    self.stored_score = curr_score\n",
    "                    self.stored_split_value = x[split_index]"
   ]
  },
  {
   "cell_type": "code",
   "execution_count": 189,
   "metadata": {
    "scrolled": false
   },
   "outputs": [
    {
     "name": "stdout",
     "output_type": "stream",
     "text": [
      "88277501.8016 GrLivArea 1487\n",
      " left: 766\n",
      "24657809.9223 GrLivArea 1198\n",
      "  left -> left: 424\n",
      "10725526.9811 GrLivArea 803\n",
      "  left -> right: 342\n",
      "12549252.8085 GrLivArea 1416\n",
      "  left ->  right-> left: 250\n",
      "8614923.77704 TotRmsAbvGrd 6\n",
      "  left ->  right->  left -> left: 67\n",
      "2284532.15607 TotRmsAbvGrd 4\n",
      "  left ->  right->  left -> right: 183\n",
      "6234563.26991 TotRmsAbvGrd 6\n",
      "  left ->  right-> right: 92\n",
      "3418397.09112 GrLivArea 1419\n",
      " right: 694\n",
      "51572035.0487 GrLivArea 2295\n",
      "  right-> left: 586\n",
      "36319311.4231 GrLivArea 1824\n",
      "  right->  left -> left: 365\n",
      "19511407.2925 TotRmsAbvGrd 7\n",
      "  right->  left ->  left -> left: 116\n",
      "6019641.18904 GrLivArea 1641\n",
      "  right->  left ->  left -> right: 249\n",
      "12786660.4719 TotRmsAbvGrd 7\n",
      "  right->  left -> right: 221\n",
      "15633333.0209 TotRmsAbvGrd 10\n",
      "  right-> right: 108\n",
      "11868918.8559 GrLivArea 3493\n"
     ]
    }
   ],
   "source": [
    "myTree = Dtree(df_trn,labels)\n",
    "myTree.spawn()"
   ]
  },
  {
   "cell_type": "code",
   "execution_count": null,
   "metadata": {
    "collapsed": true
   },
   "outputs": [],
   "source": []
  }
 ],
 "metadata": {
  "kernelspec": {
   "display_name": "Python 3",
   "language": "python",
   "name": "python3"
  },
  "language_info": {
   "codemirror_mode": {
    "name": "ipython",
    "version": 3
   },
   "file_extension": ".py",
   "mimetype": "text/x-python",
   "name": "python",
   "nbconvert_exporter": "python",
   "pygments_lexer": "ipython3",
   "version": "3.6.3"
  }
 },
 "nbformat": 4,
 "nbformat_minor": 2
}
